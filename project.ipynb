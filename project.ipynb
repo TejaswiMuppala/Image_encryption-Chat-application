{
 "cells": [
  {
   "cell_type": "code",
   "execution_count": 25,
   "metadata": {},
   "outputs": [],
   "source": [
    "import os\n",
    "import cv2\n",
    "import numpy as np\n",
    "from cryptography.hazmat.primitives import hashes\n",
    "from cryptography.hazmat.primitives.ciphers import Cipher, algorithms, modes\n",
    "from cryptography.hazmat.backends import default_backend\n",
    "from cryptography.hazmat.primitives import padding\n",
    "from cryptography.hazmat.primitives.asymmetric import rsa\n",
    "from cryptography.hazmat.primitives import serialization\n",
    "from cryptography.hazmat.primitives.asymmetric import padding as asym_padding\n"
   ]
  },
  {
   "cell_type": "code",
   "execution_count": 26,
   "metadata": {},
   "outputs": [],
   "source": [
    "# Generate RSA Key Pair\n",
    "def generate_rsa_keypair():\n",
    "    private_key = rsa.generate_private_key(public_exponent=65537, key_size=2048, backend=default_backend())\n",
    "    public_key = private_key.public_key()\n",
    "\n",
    "    return private_key, public_key\n"
   ]
  },
  {
   "cell_type": "code",
   "execution_count": 27,
   "metadata": {},
   "outputs": [],
   "source": [
    "# Encrypt AES key with RSA\n",
    "def encrypt_aes_key(aes_key, public_key):\n",
    "    encrypted_aes_key = public_key.encrypt(\n",
    "        aes_key,\n",
    "        asym_padding.OAEP(\n",
    "            mgf=asym_padding.MGF1(algorithm=hashes.SHA256()),\n",
    "            algorithm=hashes.SHA256(),\n",
    "            label=None\n",
    "        )\n",
    "    )\n",
    "    return encrypted_aes_key\n"
   ]
  },
  {
   "cell_type": "code",
   "execution_count": 28,
   "metadata": {},
   "outputs": [],
   "source": [
    "# Decrypt AES key with RSA\n",
    "def decrypt_aes_key(encrypted_aes_key, private_key):\n",
    "    decrypted_aes_key = private_key.decrypt(\n",
    "        encrypted_aes_key,\n",
    "        asym_padding.OAEP(\n",
    "            mgf=asym_padding.MGF1(algorithm=hashes.SHA256()),\n",
    "            algorithm=hashes.SHA256(),\n",
    "            label=None\n",
    "        )\n",
    "    )\n",
    "    return decrypted_aes_key\n"
   ]
  },
  {
   "cell_type": "code",
   "execution_count": 29,
   "metadata": {},
   "outputs": [],
   "source": [
    "# AES Encryption with Padding\n",
    "def encrypt_with_aes(image, key):\n",
    "    cipher = Cipher(algorithms.AES(key), modes.CBC(key[:16]), backend=default_backend())\n",
    "    encryptor = cipher.encryptor()\n",
    "\n",
    "    # Flatten the image and apply padding to ensure multiple of 16 bytes\n",
    "    h, w, c = image.shape\n",
    "    image_bytes = image.tobytes()\n",
    "    padder = padding.PKCS7(128).padder()  # 128 bits = 16 bytes\n",
    "    padded_image = padder.update(image_bytes) + padder.finalize()\n",
    "\n",
    "    # Encrypt the padded data\n",
    "    encrypted_image = encryptor.update(padded_image) + encryptor.finalize()\n",
    "\n",
    "    return encrypted_image, h, w, c\n"
   ]
  },
  {
   "cell_type": "code",
   "execution_count": 30,
   "metadata": {},
   "outputs": [],
   "source": [
    "# AES Decryption with Padding Removal\n",
    "def decrypt_with_aes(encrypted_image, key, h, w, c):\n",
    "    cipher = Cipher(algorithms.AES(key), modes.CBC(key[:16]), backend=default_backend())\n",
    "    decryptor = cipher.decryptor()\n",
    "\n",
    "    # Decrypt the encrypted data\n",
    "    decrypted_image = decryptor.update(encrypted_image) + decryptor.finalize()\n",
    "\n",
    "    # Remove padding\n",
    "    unpadder = padding.PKCS7(128).unpadder()\n",
    "    decrypted_image = unpadder.update(decrypted_image) + unpadder.finalize()\n",
    "\n",
    "    # Convert back to numpy array and reshape\n",
    "    decrypted_image = np.frombuffer(decrypted_image, dtype=np.uint8).reshape(h, w, c)\n",
    "    \n",
    "    return decrypted_image\n"
   ]
  },
  {
   "cell_type": "code",
   "execution_count": 31,
   "metadata": {},
   "outputs": [
    {
     "name": "stdout",
     "output_type": "stream",
     "text": [
      "[INFO] Encrypting AES Key using RSA...\n",
      "[INFO] Encrypting Image with AES...\n",
      "[INFO] Encrypted image saved!\n",
      "[INFO] Decrypting AES Key using RSA...\n",
      "[INFO] Decrypting Image with AES...\n",
      "[INFO] Decrypted image saved!\n",
      "[SUCCESS] AES Image Encryption & Decryption Completed!\n"
     ]
    }
   ],
   "source": [
    "# Main function to load image, encrypt/decrypt with AES and RSA, and save results\n",
    "def main():\n",
    "    # Load image\n",
    "    image_path = input(\"Enter path of the image to encrypt: \")\n",
    "    image = cv2.imread(image_path)\n",
    "    \n",
    "    if image is None:\n",
    "        print(f\"Error: Unable to read image from {image_path}\")\n",
    "        return\n",
    "\n",
    "    # Generate AES key and RSA keys\n",
    "    aes_key = os.urandom(32)  # AES-256 key\n",
    "    private_key, public_key = generate_rsa_keypair()\n",
    "\n",
    "    # Encrypt AES key with RSA\n",
    "    print(\"[INFO] Encrypting AES Key using RSA...\")\n",
    "    encrypted_aes_key = encrypt_aes_key(aes_key, public_key)\n",
    "\n",
    "    # Encrypt image with AES\n",
    "    print(\"[INFO] Encrypting Image with AES...\")\n",
    "    encrypted_image, h, w, c = encrypt_with_aes(image, aes_key)\n",
    "    # Save the encrypted data (not the reshaped image)\n",
    "    with open('aes_encrypted_image.bin', 'wb') as f:\n",
    "        f.write(encrypted_image)\n",
    "    print(\"[INFO] Encrypted image saved!\")\n",
    "\n",
    "    # Decrypt AES key using RSA\n",
    "    print(\"[INFO] Decrypting AES Key using RSA...\")\n",
    "    decrypted_aes_key = decrypt_aes_key(encrypted_aes_key, private_key)\n",
    "\n",
    "    # Decrypt image with AES\n",
    "    print(\"[INFO] Decrypting Image with AES...\")\n",
    "    decrypted_image = decrypt_with_aes(encrypted_image, decrypted_aes_key, h, w, c)\n",
    "    cv2.imwrite('aes_decrypted_image.jpg', decrypted_image)\n",
    "    print(\"[INFO] Decrypted image saved!\")\n",
    "\n",
    "    print(\"[SUCCESS] AES Image Encryption & Decryption Completed!\")\n",
    "\n",
    "if __name__ == \"__main__\":\n",
    "    main()\n"
   ]
  }
 ],
 "metadata": {
  "kernelspec": {
   "display_name": "Python 3",
   "language": "python",
   "name": "python3"
  },
  "language_info": {
   "codemirror_mode": {
    "name": "ipython",
    "version": 3
   },
   "file_extension": ".py",
   "mimetype": "text/x-python",
   "name": "python",
   "nbconvert_exporter": "python",
   "pygments_lexer": "ipython3",
   "version": "3.12.2"
  }
 },
 "nbformat": 4,
 "nbformat_minor": 2
}
